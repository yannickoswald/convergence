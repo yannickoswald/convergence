{
 "cells": [
  {
   "cell_type": "code",
   "execution_count": null,
   "metadata": {},
   "outputs": [],
   "source": [
    "import numpy as np\n",
    "\n",
    "# Define inputs\n",
    "income_deciles = np.array([...])  # Replace with actual income data for each decile\n",
    "national_avg_intensity = ...      # National average carbon intensity\n",
    "b_values = np.linspace(start_b, end_b, num_steps)  # Range of b values to test\n",
    "tolerance = 1e-6  # Tolerance for preserving national average intensity\n",
    "\n",
    "def calculate_emissions(income, a, b):\n",
    "    return np.exp(a + b * np.log(income))\n",
    "\n",
    "def find_a_for_given_b(income_deciles, national_avg_intensity, b, initial_a=0):\n",
    "    a = initial_a\n",
    "    step_size = 0.01  # Initial step size for adjusting 'a'\n",
    "    \n",
    "    while True:\n",
    "        emissions = calculate_emissions(income_deciles, a, b)\n",
    "        current_intensity = np.sum(emissions) / np.sum(income_deciles)\n",
    "\n",
    "        if abs(current_intensity - national_avg_intensity) < tolerance:\n",
    "            break\n",
    "\n",
    "        if current_intensity > national_avg_intensity:\n",
    "            a -= step_size\n",
    "        else:\n",
    "            a += step_size\n",
    "\n",
    "        step_size *= 0.99  # Reduce step size for finer adjustments\n",
    "\n",
    "    return a\n",
    "\n",
    "# Iteratively adjust 'a' for each 'b'\n",
    "results = []\n",
    "for b in b_values:\n",
    "    a = find_a_for_given_b(income_deciles, national_avg_intensity, b)\n",
    "    emissions = calculate_emissions(income_deciles, a, b)\n",
    "    results.append((b, a, emissions))\n",
    "\n",
    "# Display or process the results as needed\n",
    "for b, a, emissions in results:\n",
    "    print(f\"b: {b}, a: {a}, Emissions: {emissions}\")"
   ]
  }
 ],
 "metadata": {
  "language_info": {
   "name": "python"
  }
 },
 "nbformat": 4,
 "nbformat_minor": 2
}
