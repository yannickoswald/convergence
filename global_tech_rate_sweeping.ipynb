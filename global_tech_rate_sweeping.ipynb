{
 "cells": [
  {
   "cell_type": "code",
   "execution_count": null,
   "metadata": {},
   "outputs": [],
   "source": [
    "from scenario_class import Scenario\n",
    "from plots_class import Plots\n",
    "import matplotlib.pyplot as plt\n",
    "import pandas as pd\n",
    "import matplotlib.cm as cm\n",
    "from scenariosweeper_class import ScenarioSweeper\n",
    "\n",
    "\n",
    "# in this script we want to find out the trade-off between income goal and carbon budget with respect to the carbon intensity decline of the economy that is required\n",
    "\n",
    "# Example usage:\n",
    "end_year_values = [2100]\n",
    "income_goal_values = [5000, 10000, 15000, 20000, 25000, 30000]\n",
    "carbon_budget_values = [500, 750, 1000, 1250, 1500, 1750, 2000]\n",
    "gdp_assumption_values = [\"constant_ratio\"]\n",
    "pop_growth_assumption_values = [\"semi_log_model\"]\n",
    "sweeper1 = ScenarioSweeper(end_year_values, income_goal_values, carbon_budget_values, gdp_assumption_values, pop_growth_assumption_values)\n",
    "output1 = sweeper1.run_scenarios()\n",
    "\n",
    "# Capture the figure and axes objects\n",
    "fig, ax = sweeper1.plot_total_emissions_trade_off(output1, [\"end_year\", \"income_goal\"])\n",
    "\n",
    "# Adjust the figure layout to be tight and save the figure at 300 DPI with minimal margins\n",
    "fig.tight_layout()\n",
    "fig.savefig(\"figX.png\", dpi=300, bbox_inches='tight')\n",
    "\n",
    "# If you want to display the figure in an external plotting context\n",
    "plt.show(fig)"
   ]
  }
 ],
 "metadata": {
  "kernelspec": {
   "display_name": "Python 3",
   "language": "python",
   "name": "python3"
  },
  "language_info": {
   "name": "python",
   "version": "3.11.7"
  }
 },
 "nbformat": 4,
 "nbformat_minor": 2
}
