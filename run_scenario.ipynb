{
 "cells": [
  {
   "cell_type": "code",
   "execution_count": 4,
   "metadata": {},
   "outputs": [
    {
     "ename": "KeyError",
     "evalue": "0",
     "output_type": "error",
     "traceback": [
      "\u001b[1;31m---------------------------------------------------------------------------\u001b[0m",
      "\u001b[1;31mKeyError\u001b[0m                                  Traceback (most recent call last)",
      "Cell \u001b[1;32mIn[4], line 10\u001b[0m\n\u001b[0;32m      3\u001b[0m scenario_params \u001b[38;5;241m=\u001b[39m {\u001b[38;5;124m\"\u001b[39m\u001b[38;5;124mend_year\u001b[39m\u001b[38;5;124m\"\u001b[39m: \u001b[38;5;241m2100\u001b[39m,\n\u001b[0;32m      4\u001b[0m                  \u001b[38;5;124m\"\u001b[39m\u001b[38;5;124mincome_goal\u001b[39m\u001b[38;5;124m\"\u001b[39m: \u001b[38;5;241m20000\u001b[39m,\n\u001b[0;32m      5\u001b[0m             }\n\u001b[0;32m      8\u001b[0m scenario_1 \u001b[38;5;241m=\u001b[39m Scenario(scenario_params)\n\u001b[1;32m---> 10\u001b[0m \u001b[38;5;28mprint\u001b[39m(\u001b[43mscenario_1\u001b[49m\u001b[38;5;241;43m.\u001b[39;49m\u001b[43mcountries\u001b[49m\u001b[43m[\u001b[49m\u001b[38;5;241;43m0\u001b[39;49m\u001b[43m]\u001b[49m)\n",
      "\u001b[1;31mKeyError\u001b[0m: 0"
     ]
    }
   ],
   "source": [
    "from scenario_class import Scenario\n",
    "\n",
    "scenario_params = {\"end_year\": 2100,\n",
    "                 \"income_goal\": 20000,\n",
    "            }\n",
    "\n",
    "\n",
    "scenario_1 = Scenario(scenario_params)\n",
    "\n",
    "print(scenario_1.countries[0])"
   ]
  }
 ],
 "metadata": {
  "kernelspec": {
   "display_name": "Python 3",
   "language": "python",
   "name": "python3"
  },
  "language_info": {
   "codemirror_mode": {
    "name": "ipython",
    "version": 3
   },
   "file_extension": ".py",
   "mimetype": "text/x-python",
   "name": "python",
   "nbconvert_exporter": "python",
   "pygments_lexer": "ipython3",
   "version": "3.11.7"
  },
  "orig_nbformat": 4
 },
 "nbformat": 4,
 "nbformat_minor": 2
}
