{
 "cells": [
  {
   "cell_type": "code",
   "execution_count": 4,
   "metadata": {},
   "outputs": [
    {
     "name": "stdout",
     "output_type": "stream",
     "text": [
      "{'Angola': Country('ID: None')('name: None')('hh_income: None'), 'Albania': Country('ID: None')('name: None')('hh_income: None'), 'United Arab Emirates': Country('ID: None')('name: None')('hh_income: None'), 'Armenia': Country('ID: None')('name: None')('hh_income: None'), 'Australia': Country('ID: None')('name: None')('hh_income: None'), 'Austria': Country('ID: None')('name: None')('hh_income: None'), 'Burundi': Country('ID: None')('name: None')('hh_income: None'), 'Belgium': Country('ID: None')('name: None')('hh_income: None'), 'Benin': Country('ID: None')('name: None')('hh_income: None'), 'Burkina Faso': Country('ID: None')('name: None')('hh_income: None'), 'Bangladesh': Country('ID: None')('name: None')('hh_income: None'), 'Bulgaria': Country('ID: None')('name: None')('hh_income: None'), 'Bosnia and Herzegovina': Country('ID: None')('name: None')('hh_income: None'), 'Belarus': Country('ID: None')('name: None')('hh_income: None'), 'Bolivia': Country('ID: None')('name: None')('hh_income: None'), 'Brazil': Country('ID: None')('name: None')('hh_income: None'), 'Bhutan': Country('ID: None')('name: None')('hh_income: None'), 'Botswana': Country('ID: None')('name: None')('hh_income: None'), 'Central African Republic': Country('ID: None')('name: None')('hh_income: None'), 'Canada': Country('ID: None')('name: None')('hh_income: None'), 'Switzerland': Country('ID: None')('name: None')('hh_income: None'), 'Chile': Country('ID: None')('name: None')('hh_income: None'), 'China': Country('ID: None')('name: None')('hh_income: None'), \"Cote d'Ivoire\": Country('ID: None')('name: None')('hh_income: None'), 'Cameroon': Country('ID: None')('name: None')('hh_income: None'), 'Congo, Dem. Rep.': Country('ID: None')('name: None')('hh_income: None'), 'Congo, Rep.': Country('ID: None')('name: None')('hh_income: None'), 'Colombia': Country('ID: None')('name: None')('hh_income: None'), 'Comoros': Country('ID: None')('name: None')('hh_income: None'), 'Cabo Verde': Country('ID: None')('name: None')('hh_income: None'), 'Costa Rica': Country('ID: None')('name: None')('hh_income: None'), 'Cyprus': Country('ID: None')('name: None')('hh_income: None'), 'Czech Republic': Country('ID: None')('name: None')('hh_income: None'), 'Germany': Country('ID: None')('name: None')('hh_income: None'), 'Denmark': Country('ID: None')('name: None')('hh_income: None'), 'Dominican Republic': Country('ID: None')('name: None')('hh_income: None'), 'Algeria': Country('ID: None')('name: None')('hh_income: None'), 'Ecuador': Country('ID: None')('name: None')('hh_income: None'), 'Egypt, Arab Rep.': Country('ID: None')('name: None')('hh_income: None'), 'Spain': Country('ID: None')('name: None')('hh_income: None'), 'Estonia': Country('ID: None')('name: None')('hh_income: None'), 'Ethiopia': Country('ID: None')('name: None')('hh_income: None'), 'Finland': Country('ID: None')('name: None')('hh_income: None'), 'Fiji': Country('ID: None')('name: None')('hh_income: None'), 'France': Country('ID: None')('name: None')('hh_income: None'), 'Micronesia, Fed. Sts.': Country('ID: None')('name: None')('hh_income: None'), 'Gabon': Country('ID: None')('name: None')('hh_income: None'), 'United Kingdom': Country('ID: None')('name: None')('hh_income: None'), 'Georgia': Country('ID: None')('name: None')('hh_income: None'), 'Ghana': Country('ID: None')('name: None')('hh_income: None'), 'Guinea': Country('ID: None')('name: None')('hh_income: None'), 'Gambia, The': Country('ID: None')('name: None')('hh_income: None'), 'Guinea-Bissau': Country('ID: None')('name: None')('hh_income: None'), 'Greece': Country('ID: None')('name: None')('hh_income: None'), 'Guatemala': Country('ID: None')('name: None')('hh_income: None'), 'Honduras': Country('ID: None')('name: None')('hh_income: None'), 'Croatia': Country('ID: None')('name: None')('hh_income: None'), 'Haiti': Country('ID: None')('name: None')('hh_income: None'), 'Hungary': Country('ID: None')('name: None')('hh_income: None'), 'Indonesia': Country('ID: None')('name: None')('hh_income: None'), 'India': Country('ID: None')('name: None')('hh_income: None'), 'Ireland': Country('ID: None')('name: None')('hh_income: None'), 'Iran, Islamic Rep.': Country('ID: None')('name: None')('hh_income: None'), 'Iraq': Country('ID: None')('name: None')('hh_income: None'), 'Iceland': Country('ID: None')('name: None')('hh_income: None'), 'Israel': Country('ID: None')('name: None')('hh_income: None'), 'Italy': Country('ID: None')('name: None')('hh_income: None'), 'Japan': Country('ID: None')('name: None')('hh_income: None'), 'Kazakhstan': Country('ID: None')('name: None')('hh_income: None'), 'Kenya': Country('ID: None')('name: None')('hh_income: None'), 'Kyrgyz Republic': Country('ID: None')('name: None')('hh_income: None'), 'Kiribati': Country('ID: None')('name: None')('hh_income: None'), 'Korea, Rep.': Country('ID: None')('name: None')('hh_income: None'), 'Lao PDR': Country('ID: None')('name: None')('hh_income: None'), 'Lebanon': Country('ID: None')('name: None')('hh_income: None'), 'Liberia': Country('ID: None')('name: None')('hh_income: None'), 'St. Lucia': Country('ID: None')('name: None')('hh_income: None'), 'Sri Lanka': Country('ID: None')('name: None')('hh_income: None'), 'Lesotho': Country('ID: None')('name: None')('hh_income: None'), 'Lithuania': Country('ID: None')('name: None')('hh_income: None'), 'Luxembourg': Country('ID: None')('name: None')('hh_income: None'), 'Latvia': Country('ID: None')('name: None')('hh_income: None'), 'Morocco': Country('ID: None')('name: None')('hh_income: None'), 'Moldova': Country('ID: None')('name: None')('hh_income: None'), 'Madagascar': Country('ID: None')('name: None')('hh_income: None'), 'Maldives': Country('ID: None')('name: None')('hh_income: None'), 'Mexico': Country('ID: None')('name: None')('hh_income: None'), 'Marshall Islands': Country('ID: None')('name: None')('hh_income: None'), 'North Macedonia': Country('ID: None')('name: None')('hh_income: None'), 'Mali': Country('ID: None')('name: None')('hh_income: None'), 'Malta': Country('ID: None')('name: None')('hh_income: None'), 'Myanmar': Country('ID: None')('name: None')('hh_income: None'), 'Montenegro': Country('ID: None')('name: None')('hh_income: None'), 'Mongolia': Country('ID: None')('name: None')('hh_income: None'), 'Mozambique': Country('ID: None')('name: None')('hh_income: None'), 'Mauritania': Country('ID: None')('name: None')('hh_income: None'), 'Mauritius': Country('ID: None')('name: None')('hh_income: None'), 'Malawi': Country('ID: None')('name: None')('hh_income: None'), 'Malaysia': Country('ID: None')('name: None')('hh_income: None'), 'Namibia': Country('ID: None')('name: None')('hh_income: None'), 'Niger': Country('ID: None')('name: None')('hh_income: None'), 'Nigeria': Country('ID: None')('name: None')('hh_income: None'), 'Nicaragua': Country('ID: None')('name: None')('hh_income: None'), 'Netherlands': Country('ID: None')('name: None')('hh_income: None'), 'Norway': Country('ID: None')('name: None')('hh_income: None'), 'Nauru': Country('ID: None')('name: None')('hh_income: None'), 'Pakistan': Country('ID: None')('name: None')('hh_income: None'), 'Panama': Country('ID: None')('name: None')('hh_income: None'), 'Peru': Country('ID: None')('name: None')('hh_income: None'), 'Philippines': Country('ID: None')('name: None')('hh_income: None'), 'Poland': Country('ID: None')('name: None')('hh_income: None'), 'Portugal': Country('ID: None')('name: None')('hh_income: None'), 'Paraguay': Country('ID: None')('name: None')('hh_income: None'), 'West Bank and Gaza': Country('ID: None')('name: None')('hh_income: None'), 'Romania': Country('ID: None')('name: None')('hh_income: None'), 'Russian Federation': Country('ID: None')('name: None')('hh_income: None'), 'Rwanda': Country('ID: None')('name: None')('hh_income: None'), 'Sudan': Country('ID: None')('name: None')('hh_income: None'), 'Senegal': Country('ID: None')('name: None')('hh_income: None'), 'Solomon Islands': Country('ID: None')('name: None')('hh_income: None'), 'Sierra Leone': Country('ID: None')('name: None')('hh_income: None'), 'El Salvador': Country('ID: None')('name: None')('hh_income: None'), 'Serbia': Country('ID: None')('name: None')('hh_income: None'), 'South Sudan': Country('ID: None')('name: None')('hh_income: None'), 'Sao Tome and Principe': Country('ID: None')('name: None')('hh_income: None'), 'Slovak Republic': Country('ID: None')('name: None')('hh_income: None'), 'Slovenia': Country('ID: None')('name: None')('hh_income: None'), 'Sweden': Country('ID: None')('name: None')('hh_income: None'), 'Eswatini': Country('ID: None')('name: None')('hh_income: None'), 'Seychelles': Country('ID: None')('name: None')('hh_income: None'), 'Chad': Country('ID: None')('name: None')('hh_income: None'), 'Togo': Country('ID: None')('name: None')('hh_income: None'), 'Thailand': Country('ID: None')('name: None')('hh_income: None'), 'Tajikistan': Country('ID: None')('name: None')('hh_income: None'), 'Timor-Leste': Country('ID: None')('name: None')('hh_income: None'), 'Tonga': Country('ID: None')('name: None')('hh_income: None'), 'Tunisia': Country('ID: None')('name: None')('hh_income: None'), 'Turkiye': Country('ID: None')('name: None')('hh_income: None'), 'Tanzania': Country('ID: None')('name: None')('hh_income: None'), 'Uganda': Country('ID: None')('name: None')('hh_income: None'), 'Ukraine': Country('ID: None')('name: None')('hh_income: None'), 'Uruguay': Country('ID: None')('name: None')('hh_income: None'), 'United States': Country('ID: None')('name: None')('hh_income: None'), 'Vietnam': Country('ID: None')('name: None')('hh_income: None'), 'Vanuatu': Country('ID: None')('name: None')('hh_income: None'), 'Samoa': Country('ID: None')('name: None')('hh_income: None'), 'Kosovo': Country('ID: None')('name: None')('hh_income: None'), 'South Africa': Country('ID: None')('name: None')('hh_income: None'), 'Zambia': Country('ID: None')('name: None')('hh_income: None'), 'Zimbabwe': Country('ID: None')('name: None')('hh_income: None')}\n",
      "     Unnamed: 0.1  Unnamed: 0                  region_name region_code  \\\n",
      "0               0           0           Sub-Saharan Africa         SSA   \n",
      "1               1           1        Europe & Central Asia         ECA   \n",
      "2               2           2  Other High Income Countries         OHI   \n",
      "3               3           3        Europe & Central Asia         ECA   \n",
      "4               4           4  Other High Income Countries         OHI   \n",
      "..            ...         ...                          ...         ...   \n",
      "145           146         146          East Asia & Pacific         EAP   \n",
      "146           147         147        Europe & Central Asia         ECA   \n",
      "147           148         148           Sub-Saharan Africa         SSA   \n",
      "148           149         149           Sub-Saharan Africa         SSA   \n",
      "149           150         150           Sub-Saharan Africa         SSA   \n",
      "\n",
      "             country_name country_code  survey_year  nowcasted_year  \\\n",
      "0                  Angola          AGO         2018            2022   \n",
      "1                 Albania          ALB         2020            2022   \n",
      "2    United Arab Emirates          ARE         2018            2022   \n",
      "3                 Armenia          ARM         2021            2022   \n",
      "4               Australia          AUS         2018            2022   \n",
      "..                    ...          ...          ...             ...   \n",
      "145                 Samoa          WSM         2013            2022   \n",
      "146                Kosovo          XKX         2017            2022   \n",
      "147          South Africa          ZAF         2014            2022   \n",
      "148                Zambia          ZMB         2015            2022   \n",
      "149              Zimbabwe          ZWE         2019            2022   \n",
      "\n",
      "    welfare_type       mean  ...   decile5   decile6   decile7   decile8  \\\n",
      "0    consumption   4.707104  ...  0.055843  0.069814  0.088688  0.115687   \n",
      "1    consumption  16.278152  ...  0.081072  0.092196  0.105650  0.124423   \n",
      "2         income  82.483043  ...  0.085614  0.097839  0.111422  0.127383   \n",
      "3    consumption   8.792424  ...  0.082082  0.090937  0.101741  0.116539   \n",
      "4         income  67.247855  ...  0.075544  0.088060  0.102666  0.121659   \n",
      "..           ...        ...  ...       ...       ...       ...       ...   \n",
      "145  consumption   9.295426  ...  0.069138  0.079920  0.093974  0.114448   \n",
      "146  consumption  11.579611  ...  0.080627  0.089841  0.100717  0.115593   \n",
      "147  consumption  11.503923  ...  0.035043  0.046496  0.065332  0.099568   \n",
      "148  consumption   2.974849  ...  0.047451  0.061739  0.082244  0.111624   \n",
      "149  consumption   4.509505  ...  0.053426  0.065919  0.082803  0.108676   \n",
      "\n",
      "      decile9  decile10  gdp_pc_ppp_2017  population  carbon_intensity  \\\n",
      "0    0.159390  0.396244          5906.12    35588987          0.093408   \n",
      "1    0.152643  0.227596         15492.07     2777689          0.110141   \n",
      "2    0.148486  0.199565         74917.67     9441129          0.291933   \n",
      "3    0.141399  0.235529         16057.01     2780469          0.183792   \n",
      "4    0.151588  0.266134         51090.26    26005540          0.287369   \n",
      "..        ...       ...              ...         ...               ...   \n",
      "145  0.150747  0.312836          5155.62      222382          0.156243   \n",
      "146  0.140038  0.245595         12675.07     1761985          0.353857   \n",
      "147  0.177095  0.504990         13478.75    59893885          0.503369   \n",
      "148  0.168343  0.434540          3365.87    20017675          0.145308   \n",
      "149  0.155953  0.406255          2207.96    16320537          0.244306   \n",
      "\n",
      "     carbon_intensity_trend  \n",
      "0                 -0.025218  \n",
      "1                 -0.026924  \n",
      "2                 -0.012363  \n",
      "3                  0.010416  \n",
      "4                 -0.027278  \n",
      "..                      ...  \n",
      "145               -0.007083  \n",
      "146               -0.018952  \n",
      "147               -0.015897  \n",
      "148                0.072871  \n",
      "149               -0.042603  \n",
      "\n",
      "[150 rows x 26 columns]\n"
     ]
    },
    {
     "ename": "KeyError",
     "evalue": "0",
     "output_type": "error",
     "traceback": [
      "\u001b[1;31m---------------------------------------------------------------------------\u001b[0m",
      "\u001b[1;31mKeyError\u001b[0m                                  Traceback (most recent call last)",
      "Cell \u001b[1;32mIn[4], line 13\u001b[0m\n\u001b[0;32m     10\u001b[0m \u001b[38;5;28mprint\u001b[39m(scenario_1\u001b[38;5;241m.\u001b[39mraw_data)\n\u001b[0;32m     12\u001b[0m test1 \u001b[38;5;241m=\u001b[39m scenario_1\u001b[38;5;241m.\u001b[39mraw_data\n\u001b[1;32m---> 13\u001b[0m \u001b[38;5;28mprint\u001b[39m(\u001b[43mscenario_1\u001b[49m\u001b[38;5;241;43m.\u001b[39;49m\u001b[43mcountries\u001b[49m\u001b[43m[\u001b[49m\u001b[38;5;241;43m0\u001b[39;49m\u001b[43m]\u001b[49m\u001b[38;5;241m.\u001b[39mname)\n",
      "\u001b[1;31mKeyError\u001b[0m: 0"
     ]
    }
   ],
   "source": [
    "from scenario_class import Scenario\n",
    "\n",
    "scenario_params = {\"end_year\": 2100,\n",
    "                 \"income_goal\": 20000,\n",
    "            }\n",
    "\n",
    "\n",
    "scenario_1 = Scenario(scenario_params)\n",
    "print(scenario_1.countries)\n",
    "print(scenario_1.raw_data)\n",
    "\n",
    "test1 = scenario_1.raw_data\n",
    "print(scenario_1.countries[0].name)"
   ]
  }
 ],
 "metadata": {
  "kernelspec": {
   "display_name": "Python 3",
   "language": "python",
   "name": "python3"
  },
  "language_info": {
   "codemirror_mode": {
    "name": "ipython",
    "version": 3
   },
   "file_extension": ".py",
   "mimetype": "text/x-python",
   "name": "python",
   "nbconvert_exporter": "python",
   "pygments_lexer": "ipython3",
   "version": "3.11.6"
  },
  "orig_nbformat": 4
 },
 "nbformat": 4,
 "nbformat_minor": 2
}
