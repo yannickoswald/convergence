{
 "cells": [
  {
   "cell_type": "code",
   "execution_count": 4,
   "metadata": {},
   "outputs": [
    {
     "name": "stdout",
     "output_type": "stream",
     "text": [
      "For b = 0.5, a = 3.6486241808768956, Emissions per decile: [ 3252.71528518  4240.86522138  4781.46518003  5280.44271255\n",
      "  5776.95275013  6306.43907162  6893.89743999  7652.49359233\n",
      "  8736.45450955 12019.87423725]\n",
      "For b = 0.75, a = 1.035351667972937, Emissions per decile: [ 2193.56531104  3265.60159421  3909.51595625  4537.19031927\n",
      "  5191.94062178  5921.85542153  6768.28629761  7915.63856503\n",
      "  9655.71244488 15582.2934684 ]\n",
      "For b = 1.0, a = -1.6094379124341003, Emissions per decile: [ 1433.4  2436.6  3097.4  3777.6  4521.4  5388.2  6438.8  7933.8 10340.6\n",
      " 19573.8]\n",
      "For b = 1.25, a = -4.284433419285749, Emissions per decile: [  908.79507226  1763.95301576  2380.96675164  3051.59346029\n",
      "  3820.3035832   4756.76118215  5943.09787492  7715.39692727\n",
      " 10744.56622239 23856.16591011]\n",
      "For b = 1.5, a = -6.98770491175928, Emissions per decile: [  560.12431056  1241.39411428  1779.21840798  2396.38877572\n",
      "  3137.92614073  4082.24328658  5332.62108136  7293.82257349\n",
      " 10853.053165   28264.80814431]\n"
     ]
    }
   ],
   "source": [
    "import numpy as np\n",
    "\n",
    "def calculate_a(income_deciles, national_avg_intensity, b):\n",
    "    \"\"\"\n",
    "    Calculate the value of 'a' for given 'b' while maintaining the national average intensity.\n",
    "    \"\"\"\n",
    "    total_income = np.sum(income_deciles)\n",
    "    weighted_sum_income = np.sum(income_deciles ** b)\n",
    "    return np.log(national_avg_intensity * total_income / weighted_sum_income)\n",
    "\n",
    "def calculate_emissions_per_decile(income_deciles, a, b):\n",
    "    \"\"\"\n",
    "    Calculate emissions for each decile given 'a' and 'b'.\n",
    "    \"\"\"\n",
    "    return np.exp(a) * income_deciles ** b\n",
    "\n",
    "# Example usage\n",
    "income_deciles = np.array([7167,12183,15487,18888,22607,26941,32194,39669, 51703, 97869])  # Replace with actual income data for each decile\n",
    "national_avg_intensity = 0.2  # Example national average carbon intensity\n",
    "b_values = np.linspace(0.5, 1.5, 5)  # Example range of b values\n",
    "\n",
    "# Calculate emissions for each 'b' value\n",
    "for b in b_values:\n",
    "    a = calculate_a(income_deciles, national_avg_intensity, b)\n",
    "    emissions = calculate_emissions_per_decile(income_deciles, a, b)\n",
    "    print(f\"For b = {b}, a = {a}, Emissions per decile: {emissions}\")\n"
   ]
  }
 ],
 "metadata": {
  "kernelspec": {
   "display_name": "Python 3",
   "language": "python",
   "name": "python3"
  },
  "language_info": {
   "codemirror_mode": {
    "name": "ipython",
    "version": 3
   },
   "file_extension": ".py",
   "mimetype": "text/x-python",
   "name": "python",
   "nbconvert_exporter": "python",
   "pygments_lexer": "ipython3",
   "version": "3.11.7"
  }
 },
 "nbformat": 4,
 "nbformat_minor": 2
}
