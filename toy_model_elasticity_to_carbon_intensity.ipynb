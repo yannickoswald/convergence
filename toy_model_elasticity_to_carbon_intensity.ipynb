{
 "cells": [
  {
   "cell_type": "code",
   "execution_count": 6,
   "metadata": {},
   "outputs": [
    {
     "name": "stdout",
     "output_type": "stream",
     "text": [
      "For b = 0.5, a = 3.6486241808768956, Emissions per decile: [ 3252.71528518  4240.86522138  4781.46518003  5280.44271255\n",
      "  5776.95275013  6306.43907162  6893.89743999  7652.49359233\n",
      "  8736.45450955 12019.87423725], Carbon Intensity per decile: [0.45384614 0.34809696 0.30874057 0.27956601 0.25553823 0.23408333\n",
      " 0.21413609 0.19290866 0.16897384 0.12281595]\n",
      "For b = 0.75, a = 1.035351667972937, Emissions per decile: [ 2193.56531104  3265.60159421  3909.51595625  4537.19031927\n",
      "  5191.94062178  5921.85542153  6768.28629761  7915.63856503\n",
      "  9655.71244488 15582.2934684 ], Carbon Intensity per decile: [0.30606465 0.26804577 0.25243856 0.2402155  0.22966075 0.2198083\n",
      " 0.2102344  0.19954218 0.18675343 0.15921582]\n",
      "For b = 1.0, a = -1.6094379124341003, Emissions per decile: [ 1433.4  2436.6  3097.4  3777.6  4521.4  5388.2  6438.8  7933.8 10340.6\n",
      " 19573.8], Carbon Intensity per decile: [0.2 0.2 0.2 0.2 0.2 0.2 0.2 0.2 0.2 0.2]\n",
      "For b = 1.25, a = -4.284433419285749, Emissions per decile: [  908.79507226  1763.95301576  2380.96675164  3051.59346029\n",
      "  3820.3035832   4756.76118215  5943.09787492  7715.39692727\n",
      " 10744.56622239 23856.16591011], Carbon Intensity per decile: [0.12680272 0.14478807 0.1537397  0.16156255 0.16898764 0.17656216\n",
      " 0.18460265 0.19449436 0.20781321 0.2437561 ]\n",
      "For b = 1.5, a = -6.98770491175928, Emissions per decile: [  560.12431056  1241.39411428  1779.21840798  2396.38877572\n",
      "  3137.92614073  4082.24328658  5332.62108136  7293.82257349\n",
      " 10853.053165   28264.80814431], Carbon Intensity per decile: [0.07815325 0.1018956  0.11488464 0.12687361 0.1388033  0.15152531\n",
      " 0.16564021 0.18386706 0.20991148 0.28880246]\n"
     ]
    }
   ],
   "source": [
    "import numpy as np\n",
    "\n",
    "def calculate_a(income_deciles, national_avg_intensity, b):\n",
    "    \"\"\"\n",
    "    Calculate the value of 'a' for given 'b' while maintaining the national average intensity.\n",
    "    \"\"\"\n",
    "    total_income = np.sum(income_deciles)\n",
    "    weighted_sum_income = np.sum(income_deciles ** b)\n",
    "    return np.log(national_avg_intensity * total_income / weighted_sum_income)\n",
    "\n",
    "def calculate_emissions_per_decile(income_deciles, a, b):\n",
    "    \"\"\"\n",
    "    Calculate emissions for each decile given 'a' and 'b'.\n",
    "    \"\"\"\n",
    "    return np.exp(a) * income_deciles ** b\n",
    "\n",
    "def calculate_carbon_intensity(emissions, income_deciles):\n",
    "    \"\"\"\n",
    "    Calculate carbon intensity for each decile.\n",
    "    \"\"\"\n",
    "    return emissions / income_deciles\n",
    "\n",
    "def compute_national_avg_intensity(emissions, income_deciles):\n",
    "    \"\"\"\n",
    "    Compute the national average carbon intensity from the emissions and income data.\n",
    "    \"\"\"\n",
    "    total_emissions = np.sum(emissions)\n",
    "    total_income = np.sum(income_deciles)\n",
    "    return total_emissions / total_income\n",
    "\n",
    "# Example usage\n",
    "income_deciles = np.array([7167,12183,15487,18888,22607,26941,32194,39669, 51703, 97869])  # Replace with actual income data for each decile\n",
    "national_avg_intensity = 0.2  # Example national average carbon intensity\n",
    "b_values = np.linspace(0.5, 1.5, 5)  # Example range of b values\n",
    "\n",
    "# Calculate emissions and carbon intensity for each 'b' value\n",
    "for b in b_values:\n",
    "    a = calculate_a(income_deciles, national_avg_intensity, b)\n",
    "    emissions = calculate_emissions_per_decile(income_deciles, a, b)\n",
    "    carbon_intensity_per_decile = calculate_carbon_intensity(emissions, income_deciles)\n",
    "    recomputed_national_avg_intensity = compute_national_avg_intensity(emissions, income_deciles)\n",
    "    print(f\"For b = {b}, a = {a}, Emissions per decile: {emissions}, Carbon Intensity per decile: {carbon_intensity_per_decile}\")\n"
   ]
  }
 ],
 "metadata": {
  "kernelspec": {
   "display_name": "Python 3",
   "language": "python",
   "name": "python3"
  },
  "language_info": {
   "codemirror_mode": {
    "name": "ipython",
    "version": 3
   },
   "file_extension": ".py",
   "mimetype": "text/x-python",
   "name": "python",
   "nbconvert_exporter": "python",
   "pygments_lexer": "ipython3",
   "version": "3.11.7"
  }
 },
 "nbformat": 4,
 "nbformat_minor": 2
}
